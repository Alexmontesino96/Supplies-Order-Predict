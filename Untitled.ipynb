{
 "cells": [
  {
   "cell_type": "code",
   "execution_count": 1,
   "id": "54e16d32-2903-4d01-825a-7d894fd8bec4",
   "metadata": {},
   "outputs": [],
   "source": [
    "import numpy as np"
   ]
  },
  {
   "cell_type": "code",
   "execution_count": 18,
   "id": "3fc615aa",
   "metadata": {},
   "outputs": [],
   "source": [
    "arra = np.array([1, 2, 3, 4, 5, 6, 7, 8, 9,10])"
   ]
  },
  {
   "cell_type": "code",
   "execution_count": 20,
   "id": "556f76a2",
   "metadata": {},
   "outputs": [
    {
     "name": "stdout",
     "output_type": "stream",
     "text": [
      "[[ 1  2  3  4  5]\n",
      " [ 6  7  8  9 10]]\n"
     ]
    }
   ],
   "source": [
    "new_arra = arra.reshape(2,5)\n",
    "print(new_arra)"
   ]
  },
  {
   "cell_type": "code",
   "execution_count": 25,
   "id": "6d112169",
   "metadata": {},
   "outputs": [
    {
     "name": "stdout",
     "output_type": "stream",
     "text": [
      "6\n",
      "7\n",
      "8\n",
      "9\n",
      "10\n",
      "[1 2 3]\n"
     ]
    }
   ],
   "source": [
    "for i in new_arra[1]:\n",
    "    print(i)\n",
    "\n",
    "print(new_arra[0,0:3])"
   ]
  }
 ],
 "metadata": {
  "kernelspec": {
   "display_name": "Python 3 (ipykernel)",
   "language": "python",
   "name": "python3"
  },
  "language_info": {
   "codemirror_mode": {
    "name": "ipython",
    "version": 3
   },
   "file_extension": ".py",
   "mimetype": "text/x-python",
   "name": "python",
   "nbconvert_exporter": "python",
   "pygments_lexer": "ipython3",
   "version": "3.9.6"
  }
 },
 "nbformat": 4,
 "nbformat_minor": 5
}
